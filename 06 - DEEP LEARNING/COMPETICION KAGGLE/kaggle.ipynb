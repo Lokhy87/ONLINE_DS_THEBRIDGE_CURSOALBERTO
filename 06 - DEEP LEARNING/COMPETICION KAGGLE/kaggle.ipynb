{
 "cells": [
  {
   "cell_type": "markdown",
   "metadata": {},
   "source": [
    "# RECONOCIMIENTO DE EXPRESIONES FACIALES "
   ]
  },
  {
   "cell_type": "markdown",
   "metadata": {},
   "source": [
    "Librerias "
   ]
  },
  {
   "cell_type": "code",
   "execution_count": 57,
   "metadata": {},
   "outputs": [],
   "source": [
    "import cv2\n",
    "import keras\n",
    "import numpy as np\n",
    "import matplotlib.pyplot as plt\n",
    "import os\n",
    "import pandas as pd\n",
    "import seaborn as sns\n",
    "import random\n",
    "\n",
    "from tensorflow.keras.preprocessing.image import load_img, img_to_array\n",
    "from tensorflow.keras.preprocessing.image import ImageDataGenerator\n",
    "from tensorflow.keras.models import Sequential\n",
    "from tensorflow.keras.layers import Conv2D, MaxPooling2D, Flatten, Dense, Dropout\n",
    "from tensorflow.keras.applications import VGG19\n",
    "from tensorflow.keras.models import Model\n",
    "from tensorflow.keras.layers import GlobalAveragePooling2D, Dense, Dropout\n",
    "from skimage.io import imread\n",
    "from sklearn.model_selection import train_test_split\n",
    "from sklearn.utils import shuffle\n",
    "from sklearn.metrics import classification_report, confusion_matrix"
   ]
  },
  {
   "cell_type": "markdown",
   "metadata": {},
   "source": [
    "Cargar dataset y primeras visualizaciones"
   ]
  },
  {
   "cell_type": "code",
   "execution_count": 58,
   "metadata": {},
   "outputs": [],
   "source": [
    "# Definir carpeta datos y tamaña imagenes\n",
    "TRAIN_DIR = './data/images/train/'\n",
    "TEST_DIR = './data/images/test/'\n",
    "IMG_SIZE = 48"
   ]
  },
  {
   "cell_type": "code",
   "execution_count": 59,
   "metadata": {},
   "outputs": [],
   "source": [
    "# Asegúrate de que las rutas de directorios existen\n",
    "assert os.path.exists(TRAIN_DIR), f\"La ruta de entrenamiento no existe: {TRAIN_DIR}\"\n",
    "assert os.path.exists(TEST_DIR), f\"La ruta de prueba no existe: {TEST_DIR}\""
   ]
  },
  {
   "cell_type": "code",
   "execution_count": 60,
   "metadata": {},
   "outputs": [],
   "source": [
    "# Funcion mostrar imagenes \n",
    "def plot_images(images, labels, rows = 2, cols = 6):\n",
    "    fig, axes = plt.subplots(rows, cols, figsize = (16, 8))\n",
    "    axes = axes.flatten()\n",
    "    for img, label, ax in zip(images, labels, axes):\n",
    "        ax.imshow(img, cmap = 'gray')\n",
    "        ax.set_title(label)\n",
    "        ax.axis('off')\n",
    "    plt.tight_layout()\n",
    "    plt.show()"
   ]
  },
  {
   "cell_type": "code",
   "execution_count": 61,
   "metadata": {},
   "outputs": [],
   "source": [
    "# Funcion cargar imagenes aleatorias \n",
    "def load_random_images_from_directory(directory, num_images= 10):\n",
    "    class_folders = [os.path.join(directory, d) for d in os.listdir(directory) if os.path.isdir(os.join(directory, d))]\n",
    "    images = []\n",
    "    labels = []\n",
    "\n",
    "# cargar imagenes de cada clase \n",
    "    for folder in class_folders:\n",
    "        class_name = os.path.baseman(folder)\n",
    "        images_files = os.listdir(folder)\n",
    "        random_files = random.sample(images_files, min(num_images, len(images_files)))\n",
    "\n",
    "        for file in random_files:\n",
    "            img_path = os.path.join(folder, file)\n",
    "            img = load_img(img_path, color_mode='grayscale', target_size=(IMG_SIZE, IMG_SIZE))\n",
    "            img_array = img_to_array(img)\n",
    "            images.append(img_array)\n",
    "            labels.append(class_name)\n",
    "\n",
    "    return images, labels"
   ]
  },
  {
   "cell_type": "code",
   "execution_count": 62,
   "metadata": {},
   "outputs": [
    {
     "ename": "AttributeError",
     "evalue": "module 'os' has no attribute 'join'",
     "output_type": "error",
     "traceback": [
      "\u001b[1;31m---------------------------------------------------------------------------\u001b[0m",
      "\u001b[1;31mAttributeError\u001b[0m                            Traceback (most recent call last)",
      "Cell \u001b[1;32mIn[62], line 1\u001b[0m\n\u001b[1;32m----> 1\u001b[0m train_images, train_labels \u001b[38;5;241m=\u001b[39m load_random_images_from_directory(TRAIN_DIR, num_images \u001b[38;5;241m=\u001b[39m \u001b[38;5;241m5\u001b[39m)\n",
      "Cell \u001b[1;32mIn[61], line 3\u001b[0m, in \u001b[0;36mload_random_images_from_directory\u001b[1;34m(directory, num_images)\u001b[0m\n\u001b[0;32m      2\u001b[0m \u001b[38;5;28;01mdef\u001b[39;00m \u001b[38;5;21mload_random_images_from_directory\u001b[39m(directory, num_images\u001b[38;5;241m=\u001b[39m \u001b[38;5;241m10\u001b[39m):\n\u001b[1;32m----> 3\u001b[0m     class_folders \u001b[38;5;241m=\u001b[39m [os\u001b[38;5;241m.\u001b[39mpath\u001b[38;5;241m.\u001b[39mjoin(directory, d) \u001b[38;5;28;01mfor\u001b[39;00m d \u001b[38;5;129;01min\u001b[39;00m os\u001b[38;5;241m.\u001b[39mlistdir(directory) \u001b[38;5;28;01mif\u001b[39;00m os\u001b[38;5;241m.\u001b[39mpath\u001b[38;5;241m.\u001b[39misdir(os\u001b[38;5;241m.\u001b[39mjoin(directory, d))]\n\u001b[0;32m      4\u001b[0m     images \u001b[38;5;241m=\u001b[39m []\n\u001b[0;32m      5\u001b[0m     labels \u001b[38;5;241m=\u001b[39m []\n",
      "Cell \u001b[1;32mIn[61], line 3\u001b[0m, in \u001b[0;36m<listcomp>\u001b[1;34m(.0)\u001b[0m\n\u001b[0;32m      2\u001b[0m \u001b[38;5;28;01mdef\u001b[39;00m \u001b[38;5;21mload_random_images_from_directory\u001b[39m(directory, num_images\u001b[38;5;241m=\u001b[39m \u001b[38;5;241m10\u001b[39m):\n\u001b[1;32m----> 3\u001b[0m     class_folders \u001b[38;5;241m=\u001b[39m [os\u001b[38;5;241m.\u001b[39mpath\u001b[38;5;241m.\u001b[39mjoin(directory, d) \u001b[38;5;28;01mfor\u001b[39;00m d \u001b[38;5;129;01min\u001b[39;00m os\u001b[38;5;241m.\u001b[39mlistdir(directory) \u001b[38;5;28;01mif\u001b[39;00m os\u001b[38;5;241m.\u001b[39mpath\u001b[38;5;241m.\u001b[39misdir(os\u001b[38;5;241m.\u001b[39mjoin(directory, d))]\n\u001b[0;32m      4\u001b[0m     images \u001b[38;5;241m=\u001b[39m []\n\u001b[0;32m      5\u001b[0m     labels \u001b[38;5;241m=\u001b[39m []\n",
      "\u001b[1;31mAttributeError\u001b[0m: module 'os' has no attribute 'join'"
     ]
    }
   ],
   "source": [
    "train_images, train_labels = load_random_images_from_directory(TRAIN_DIR, num_images = 5)"
   ]
  },
  {
   "cell_type": "code",
   "execution_count": null,
   "metadata": {},
   "outputs": [],
   "source": [
    "# Generadores de datos \n",
    "train_datagen = ImageDataGenerator(\n",
    "    rescale = 1./255,\n",
    "    rotation_range = 10,\n",
    "    width_shift_range = 0.1, \n",
    "    height_shift_range = 0.1,\n",
    "    zoom_range = 0.1,\n",
    "    horizontal_flip = True, \n",
    "    validation_split = 0.2 \n",
    ")\n",
    "\n",
    "test_datagen = ImageDataGenerator(rescale = 1./255)"
   ]
  },
  {
   "cell_type": "code",
   "execution_count": null,
   "metadata": {},
   "outputs": [],
   "source": []
  }
 ],
 "metadata": {
  "kernelspec": {
   "display_name": "base",
   "language": "python",
   "name": "python3"
  },
  "language_info": {
   "codemirror_mode": {
    "name": "ipython",
    "version": 3
   },
   "file_extension": ".py",
   "mimetype": "text/x-python",
   "name": "python",
   "nbconvert_exporter": "python",
   "pygments_lexer": "ipython3",
   "version": "3.11.5"
  }
 },
 "nbformat": 4,
 "nbformat_minor": 2
}
