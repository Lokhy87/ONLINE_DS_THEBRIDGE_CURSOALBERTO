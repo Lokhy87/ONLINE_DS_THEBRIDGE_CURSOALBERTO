{
 "cells": [
  {
   "cell_type": "markdown",
   "metadata": {},
   "source": [
    "# RECONOCIMIENTO DE EXPRESIONES FACIALES "
   ]
  },
  {
   "cell_type": "markdown",
   "metadata": {},
   "source": [
    "Librerias "
   ]
  },
  {
   "cell_type": "code",
   "execution_count": 3,
   "metadata": {},
   "outputs": [
    {
     "name": "stdout",
     "output_type": "stream",
     "text": [
      "Collecting opencv-python\n",
      "  Obtaining dependency information for opencv-python from https://files.pythonhosted.org/packages/ec/6c/fab8113424af5049f85717e8e527ca3773299a3c6b02506e66436e19874f/opencv_python-4.10.0.84-cp37-abi3-win_amd64.whl.metadata\n",
      "  Downloading opencv_python-4.10.0.84-cp37-abi3-win_amd64.whl.metadata (20 kB)\n",
      "Requirement already satisfied: numpy>=1.21.2 in c:\\users\\abolt\\anaconda3\\lib\\site-packages (from opencv-python) (1.26.4)\n",
      "Downloading opencv_python-4.10.0.84-cp37-abi3-win_amd64.whl (38.8 MB)\n",
      "   ---------------------------------------- 0.0/38.8 MB ? eta -:--:--\n",
      "   ---------------------------------------- 0.0/38.8 MB ? eta -:--:--\n",
      "   ---------------------------------------- 0.1/38.8 MB 1.2 MB/s eta 0:00:34\n",
      "    --------------------------------------- 0.5/38.8 MB 3.5 MB/s eta 0:00:11\n",
      "   - -------------------------------------- 1.2/38.8 MB 6.1 MB/s eta 0:00:07\n",
      "   -- ------------------------------------- 2.6/38.8 MB 9.3 MB/s eta 0:00:04\n",
      "   ---- ----------------------------------- 4.1/38.8 MB 12.3 MB/s eta 0:00:03\n",
      "   ----- ---------------------------------- 5.7/38.8 MB 15.1 MB/s eta 0:00:03\n",
      "   ------ --------------------------------- 6.8/38.8 MB 16.0 MB/s eta 0:00:02\n",
      "   -------- ------------------------------- 8.0/38.8 MB 16.5 MB/s eta 0:00:02\n",
      "   ----------- ---------------------------- 10.9/38.8 MB 27.3 MB/s eta 0:00:02\n",
      "   --------------- ------------------------ 14.6/38.8 MB 43.5 MB/s eta 0:00:01\n",
      "   ---------------- ----------------------- 16.1/38.8 MB 43.7 MB/s eta 0:00:01\n",
      "   ---------------- ----------------------- 16.2/38.8 MB 36.4 MB/s eta 0:00:01\n",
      "   ----------------- ---------------------- 16.8/38.8 MB 31.2 MB/s eta 0:00:01\n",
      "   ----------------- ---------------------- 17.4/38.8 MB 28.5 MB/s eta 0:00:01\n",
      "   ------------------- -------------------- 19.0/38.8 MB 29.7 MB/s eta 0:00:01\n",
      "   --------------------- ------------------ 21.0/38.8 MB 27.3 MB/s eta 0:00:01\n",
      "   ----------------------- ---------------- 22.7/38.8 MB 26.2 MB/s eta 0:00:01\n",
      "   ------------------------- -------------- 24.4/38.8 MB 24.2 MB/s eta 0:00:01\n",
      "   ---------------------------- ----------- 27.4/38.8 MB 38.6 MB/s eta 0:00:01\n",
      "   ------------------------------- -------- 30.7/38.8 MB 50.4 MB/s eta 0:00:01\n",
      "   ---------------------------------- ----- 33.8/38.8 MB 59.5 MB/s eta 0:00:01\n",
      "   ------------------------------------- -- 36.2/38.8 MB 65.6 MB/s eta 0:00:01\n",
      "   ---------------------------------------  37.9/38.8 MB 59.5 MB/s eta 0:00:01\n",
      "   ---------------------------------------  38.8/38.8 MB 54.7 MB/s eta 0:00:01\n",
      "   ---------------------------------------  38.8/38.8 MB 54.7 MB/s eta 0:00:01\n",
      "   ---------------------------------------  38.8/38.8 MB 54.7 MB/s eta 0:00:01\n",
      "   ---------------------------------------  38.8/38.8 MB 54.7 MB/s eta 0:00:01\n",
      "   ---------------------------------------  38.8/38.8 MB 54.7 MB/s eta 0:00:01\n",
      "   ---------------------------------------  38.8/38.8 MB 54.7 MB/s eta 0:00:01\n",
      "   ---------------------------------------- 38.8/38.8 MB 19.2 MB/s eta 0:00:00\n",
      "Installing collected packages: opencv-python\n",
      "Successfully installed opencv-python-4.10.0.84\n",
      "Note: you may need to restart the kernel to use updated packages.\n"
     ]
    }
   ],
   "source": [
    "pip install opencv-python\n"
   ]
  },
  {
   "cell_type": "code",
   "execution_count": 4,
   "metadata": {},
   "outputs": [
    {
     "name": "stdout",
     "output_type": "stream",
     "text": [
      "Collecting opencv-contrib-python\n",
      "  Obtaining dependency information for opencv-contrib-python from https://files.pythonhosted.org/packages/a7/9e/7110d2c5d543ab03b9581dbb1f8e2429863e44e0c9b4960b766f230c1279/opencv_contrib_python-4.10.0.84-cp37-abi3-win_amd64.whl.metadata\n",
      "  Downloading opencv_contrib_python-4.10.0.84-cp37-abi3-win_amd64.whl.metadata (20 kB)\n",
      "Requirement already satisfied: numpy>=1.21.2 in c:\\users\\abolt\\anaconda3\\lib\\site-packages (from opencv-contrib-python) (1.26.4)\n",
      "Downloading opencv_contrib_python-4.10.0.84-cp37-abi3-win_amd64.whl (45.5 MB)\n",
      "   ---------------------------------------- 0.0/45.5 MB ? eta -:--:--\n",
      "   ---------------------------------------- 0.0/45.5 MB ? eta -:--:--\n",
      "   ---------------------------------------- 0.0/45.5 MB ? eta -:--:--\n",
      "   ---------------------------------------- 0.0/45.5 MB 326.8 kB/s eta 0:02:20\n",
      "   ---------------------------------------- 0.2/45.5 MB 1.2 MB/s eta 0:00:40\n",
      "    --------------------------------------- 0.8/45.5 MB 4.1 MB/s eta 0:00:11\n",
      "   - -------------------------------------- 1.8/45.5 MB 7.0 MB/s eta 0:00:07\n",
      "   -- ------------------------------------- 2.8/45.5 MB 9.3 MB/s eta 0:00:05\n",
      "   --- ------------------------------------ 3.6/45.5 MB 10.5 MB/s eta 0:00:04\n",
      "   --- ------------------------------------ 4.5/45.5 MB 11.4 MB/s eta 0:00:04\n",
      "   ----- ---------------------------------- 6.4/45.5 MB 14.1 MB/s eta 0:00:03\n",
      "   ------- -------------------------------- 8.0/45.5 MB 15.5 MB/s eta 0:00:03\n",
      "   -------- ------------------------------- 9.7/45.5 MB 17.2 MB/s eta 0:00:03\n",
      "   ---------- ----------------------------- 12.1/45.5 MB 29.7 MB/s eta 0:00:02\n",
      "   ------------ --------------------------- 14.3/45.5 MB 38.5 MB/s eta 0:00:01\n",
      "   ---------------- ----------------------- 18.8/45.5 MB 59.5 MB/s eta 0:00:01\n",
      "   ------------------ --------------------- 20.8/45.5 MB 59.5 MB/s eta 0:00:01\n",
      "   -------------------- ------------------- 23.3/45.5 MB 65.6 MB/s eta 0:00:01\n",
      "   --------------------- ------------------ 24.6/45.5 MB 59.5 MB/s eta 0:00:01\n",
      "   ----------------------- ---------------- 26.7/45.5 MB 46.7 MB/s eta 0:00:01\n",
      "   ------------------------- -------------- 28.7/45.5 MB 40.9 MB/s eta 0:00:01\n",
      "   --------------------------- ------------ 31.6/45.5 MB 43.7 MB/s eta 0:00:01\n",
      "   ------------------------------ --------- 34.6/45.5 MB 46.7 MB/s eta 0:00:01\n",
      "   --------------------------------- ------ 37.7/45.5 MB 54.4 MB/s eta 0:00:01\n",
      "   ------------------------------------ --- 41.6/45.5 MB 81.8 MB/s eta 0:00:01\n",
      "   -------------------------------------- - 43.6/45.5 MB 72.6 MB/s eta 0:00:01\n",
      "   ---------------------------------------  45.5/45.5 MB 65.6 MB/s eta 0:00:01\n",
      "   ---------------------------------------  45.5/45.5 MB 65.6 MB/s eta 0:00:01\n",
      "   ---------------------------------------  45.5/45.5 MB 65.6 MB/s eta 0:00:01\n",
      "   ---------------------------------------  45.5/45.5 MB 65.6 MB/s eta 0:00:01\n",
      "   ---------------------------------------  45.5/45.5 MB 65.6 MB/s eta 0:00:01\n",
      "   ---------------------------------------  45.5/45.5 MB 65.6 MB/s eta 0:00:01\n",
      "   ---------------------------------------- 45.5/45.5 MB 19.3 MB/s eta 0:00:00\n",
      "Installing collected packages: opencv-contrib-python\n",
      "Successfully installed opencv-contrib-python-4.10.0.84\n",
      "Note: you may need to restart the kernel to use updated packages.\n"
     ]
    }
   ],
   "source": [
    "pip install opencv-contrib-python\n"
   ]
  },
  {
   "cell_type": "code",
   "execution_count": 2,
   "metadata": {},
   "outputs": [
    {
     "ename": "ModuleNotFoundError",
     "evalue": "No module named 'cv2'",
     "output_type": "error",
     "traceback": [
      "\u001b[1;31m---------------------------------------------------------------------------\u001b[0m",
      "\u001b[1;31mModuleNotFoundError\u001b[0m                       Traceback (most recent call last)",
      "Cell \u001b[1;32mIn[2], line 1\u001b[0m\n\u001b[1;32m----> 1\u001b[0m \u001b[38;5;28;01mimport\u001b[39;00m \u001b[38;5;21;01mcv2\u001b[39;00m\n\u001b[0;32m      2\u001b[0m \u001b[38;5;28;01mimport\u001b[39;00m \u001b[38;5;21;01mkeras\u001b[39;00m\n\u001b[0;32m      3\u001b[0m \u001b[38;5;28;01mimport\u001b[39;00m \u001b[38;5;21;01mnumpy\u001b[39;00m \u001b[38;5;28;01mas\u001b[39;00m \u001b[38;5;21;01mnp\u001b[39;00m\n",
      "\u001b[1;31mModuleNotFoundError\u001b[0m: No module named 'cv2'"
     ]
    }
   ],
   "source": [
    "import cv2\n",
    "import keras\n",
    "import numpy as np\n",
    "import matplotlib.pyplot as plt\n",
    "import os\n",
    "import pandas as pd\n",
    "import seaborn as sns\n",
    "import random\n",
    "\n",
    "from tensorflow.keras.preprocessing.image import load_img, img_to_array\n",
    "from tensorflow.keras.preprocessing.image import ImageDataGenerator\n",
    "from tensorflow.keras.models import Sequential\n",
    "from tensorflow.keras.layers import Conv2D, MaxPooling2D, Flatten, Dense, Dropout\n",
    "from tensorflow.keras.applications import VGG19\n",
    "from tensorflow.keras.models import Model\n",
    "from tensorflow.keras.layers import GlobalAveragePooling2D, Dense, Dropout\n",
    "from skimage.io import imread\n",
    "from sklearn.model_selection import train_test_split\n",
    "from sklearn.utils import shuffle\n",
    "from sklearn.metrics import classification_report, confusion_matrix"
   ]
  },
  {
   "cell_type": "markdown",
   "metadata": {},
   "source": [
    "Cargar dataset "
   ]
  },
  {
   "cell_type": "code",
   "execution_count": 2,
   "metadata": {},
   "outputs": [],
   "source": [
    "# Definir carpeta datos y tamaña imagenes\n",
    "TRAIN_DIR = './data/images/train/'\n",
    "TEST_DIR = './data/images/test/'\n",
    "IMG_SIZE = 48\n",
    "BATCH_SIZE = 32"
   ]
  },
  {
   "cell_type": "code",
   "execution_count": 3,
   "metadata": {},
   "outputs": [],
   "source": [
    "# Función para cargar y preprocesar imágenes\n",
    "def preprocess_image(file_path):\n",
    "    # Carga de la imagen en escala de grises y redimensionamiento\n",
    "    img = load_img(file_path, color_mode='grayscale', target_size=(IMG_SIZE, IMG_SIZE))\n",
    "    # Convertir imagen a matriz numpy y normalizar píxeles\n",
    "    img_array = img_to_array(img) / 255.0\n",
    "    return img_array"
   ]
  },
  {
   "cell_type": "code",
   "execution_count": 4,
   "metadata": {},
   "outputs": [
    {
     "name": "stdout",
     "output_type": "stream",
     "text": [
      "Número de imágenes de entrenamiento: 28821\n",
      "Número de imágenes de prueba: 7066\n"
     ]
    }
   ],
   "source": [
    "def preprocess_image(file_path):\n",
    "    # Aquí coloca tu código de preprocesamiento de imágenes\n",
    "    img = cv2.imread(file_path)\n",
    "    img = cv2.resize(img, (224, 224))  # Asegúrate de ajustar las dimensiones según sea necesario\n",
    "    return img\n",
    "\n",
    "def load_data(directory):\n",
    "    X = []\n",
    "    filenames = []\n",
    "\n",
    "    for root, dirs, files in os.walk(directory):\n",
    "        for file in files:\n",
    "            file_path = os.path.join(root, file)\n",
    "           # print(f'Intentando cargar archivo: {file_path}')\n",
    "            try:\n",
    "                if os.path.isfile(file_path):  # Asegúrate de que es un archivo y no un directorio\n",
    "                    img = preprocess_image(file_path)\n",
    "                    X.append(img)\n",
    "                    filenames.append(file)\n",
    "            except Exception as e:\n",
    "                print(f'Error al cargar {file_path}: {e}')\n",
    "                \n",
    "    return np.array(X), filenames\n",
    "\n",
    "# Verifica si las rutas existen\n",
    "if not os.path.exists(TRAIN_DIR):\n",
    "    print(f\"Directorio no encontrado: {TRAIN_DIR}\")\n",
    "if not os.path.exists(TEST_DIR):\n",
    "    print(f\"Directorio no encontrado: {TEST_DIR}\")\n",
    "\n",
    "# Cargar datos de entrenamiento y prueba\n",
    "X_train, train_filenames = load_data(TRAIN_DIR)\n",
    "X_test, test_filenames = load_data(TEST_DIR)\n",
    "\n",
    "print(f'Número de imágenes de entrenamiento: {len(X_train)}')\n",
    "print(f'Número de imágenes de prueba: {len(X_test)}')"
   ]
  },
  {
   "cell_type": "code",
   "execution_count": null,
   "metadata": {},
   "outputs": [],
   "source": []
  },
  {
   "cell_type": "code",
   "execution_count": null,
   "metadata": {},
   "outputs": [],
   "source": []
  },
  {
   "cell_type": "code",
   "execution_count": null,
   "metadata": {},
   "outputs": [],
   "source": [
    "IM_SIZE = 224\n",
    "BATCH_SIZE = 32\n",
    "\n",
    "TRAIN_PATH = './data/images/train/'\n",
    "\n",
    "file_names = []\n",
    "categories = []\n",
    "filepaths = []\n",
    "\n",
    "for folder in os.listdir(TRAIN_PATH):\n",
    "    category = folder\n",
    "    folder_path = os.path.join(TRAIN_PATH, folder)\n",
    "    if os.path.isdir(folder_path):\n",
    "        for file in os.listdir(folder_path):\n",
    "            file_names.append(file)\n",
    "            categories.append(category)\n",
    "            filepaths.append(os.path.join(folder_path, file))\n",
    "\n",
    "df = pd.DataFrame({\n",
    "    'filenames': file_names,\n",
    "    'category': categories,\n",
    "    'filepath': filepaths\n",
    "})\n",
    "\n",
    "train_df, validate_df = train_test_split(df, test_size=0.20, random_state=42)\n",
    "train_df = train_df.reset_index(drop=True)\n",
    "validate_df = validate_df.reset_index(drop=True)"
   ]
  },
  {
   "cell_type": "code",
   "execution_count": null,
   "metadata": {},
   "outputs": [
    {
     "name": "stdout",
     "output_type": "stream",
     "text": [
      "Found 23056 validated image filenames belonging to 7 classes.\n",
      "Found 5765 validated image filenames belonging to 7 classes.\n"
     ]
    }
   ],
   "source": [
    "train_datagen = ImageDataGenerator(rescale=1./255)\n",
    "validate_datagen = ImageDataGenerator(rescale=1./255)\n",
    "\n",
    "train_generator = train_datagen.flow_from_dataframe(\n",
    "    train_df,\n",
    "    x_col='filepath',\n",
    "    y_col='category',\n",
    "    target_size=(IM_SIZE, IM_SIZE),\n",
    "    batch_size=BATCH_SIZE,\n",
    "    class_mode='categorical'\n",
    ")\n",
    "\n",
    "validate_generator = validate_datagen.flow_from_dataframe(\n",
    "    validate_df,\n",
    "    x_col='filepath',\n",
    "    y_col='category',\n",
    "    target_size=(IM_SIZE, IM_SIZE),\n",
    "    batch_size=BATCH_SIZE,\n",
    "    class_mode='categorical'\n",
    ")"
   ]
  },
  {
   "cell_type": "code",
   "execution_count": null,
   "metadata": {},
   "outputs": [],
   "source": []
  },
  {
   "cell_type": "code",
   "execution_count": null,
   "metadata": {},
   "outputs": [],
   "source": []
  },
  {
   "cell_type": "markdown",
   "metadata": {},
   "source": [
    "Visualizacion y normalizacion "
   ]
  },
  {
   "cell_type": "code",
   "execution_count": null,
   "metadata": {},
   "outputs": [],
   "source": [
    "# Funcion mostrar imagenes \n",
    "def plot_images(images, labels, rows = 2, cols = 6):\n",
    "    fig, axes = plt.subplots(rows, cols, figsize = (16, 8))\n",
    "    axes = axes.flatten()\n",
    "    for img, label, ax in zip(images, labels, axes):\n",
    "        ax.imshow(img, cmap = 'gray')\n",
    "        ax.set_title(label)\n",
    "        ax.axis('off')\n",
    "    plt.tight_layout()\n",
    "    plt.show()"
   ]
  },
  {
   "cell_type": "code",
   "execution_count": null,
   "metadata": {},
   "outputs": [],
   "source": [
    "# Funcion cargar imagenes aleatorias \n",
    "def load_random_images_from_directory(directory, num_images = 10):\n",
    "    class_folders = [os.path.join(directory, d) for d in os.listdir(directory) if os.path.isdir(os.path.join(directory, d))]\n",
    "    images = []\n",
    "    labels = []\n",
    "\n",
    "# cargar imagenes de cada clase \n",
    "    for folder in class_folders:\n",
    "        class_name = os.path.basename(folder)\n",
    "        images_files = os.listdir(folder)\n",
    "        random_files = random.sample(images_files, min(num_images, len(images_files)))\n",
    "\n",
    "        for file in random_files:\n",
    "            img_path = os.path.join(folder, file)\n",
    "            img = load_img(img_path, color_mode='grayscale', target_size=(IMG_SIZE, IMG_SIZE))\n",
    "            img_array = img_to_array(img)\n",
    "            img_array = img_array / 255\n",
    "            images.append(img_array)\n",
    "            labels.append(class_name)\n",
    "\n",
    "    return images, labels"
   ]
  },
  {
   "cell_type": "code",
   "execution_count": null,
   "metadata": {},
   "outputs": [],
   "source": [
    "train_images, train_labels = load_random_images_from_directory(TRAIN_DIR, num_images = 5)"
   ]
  },
  {
   "cell_type": "code",
   "execution_count": null,
   "metadata": {},
   "outputs": [
    {
     "name": "stdout",
     "output_type": "stream",
     "text": [
      "Imágenes de Entrenamiento:\n"
     ]
    },
    {
     "data": {
      "image/png": "[encoded data removed]",
      "text/plain": [
       "<Figure size 1600x800 with 12 Axes>"
      ]
     },
     "metadata": {},
     "output_type": "display_data"
    }
   ],
   "source": [
    "print(\"Imágenes de Entrenamiento:\")\n",
    "plot_images(train_images, train_labels)"
   ]
  },
  {
   "cell_type": "markdown",
   "metadata": {},
   "source": [
    "Preprocesamiento de imagenes"
   ]
  },
  {
   "cell_type": "code",
   "execution_count": null,
   "metadata": {},
   "outputs": [],
   "source": [
    "# Definir generador datos con aumentacion\n",
    "train_datagen = ImageDataGenerator(\n",
    "    rescale = 1/255,\n",
    "    rotation_range = 10, \n",
    "    width_shift_range = 0.1,\n",
    "    height_shift_range = 0.1,\n",
    "    zoom_range = 0.1, \n",
    "    horizontal_flip = True, \n",
    "    validation_split = 0.2 \n",
    ")\n",
    "\n",
    "test_datagen = ImageDataGenerator(rescale= 1/255)"
   ]
  },
  {
   "cell_type": "code",
   "execution_count": null,
   "metadata": {},
   "outputs": [
    {
     "name": "stdout",
     "output_type": "stream",
     "text": [
      "Found 23060 images belonging to 7 classes.\n"
     ]
    }
   ],
   "source": [
    "# Generador imagenes Train\n",
    "train_generator = train_datagen.flow_from_directory(\n",
    "    TRAIN_DIR, \n",
    "    target_size = (IMG_SIZE, IMG_SIZE),\n",
    "    color_mode = 'grayscale',\n",
    "    batch_size = BATCH_SIZE,\n",
    "    class_mode = 'categorical',\n",
    "    subset = 'training' \n",
    ")"
   ]
  },
  {
   "cell_type": "code",
   "execution_count": null,
   "metadata": {},
   "outputs": [
    {
     "name": "stdout",
     "output_type": "stream",
     "text": [
      "Found 5761 images belonging to 7 classes.\n"
     ]
    }
   ],
   "source": [
    "# Generacion imagenes Validation \n",
    "validation_generator = train_datagen.flow_from_directory(\n",
    "    TRAIN_DIR, \n",
    "    target_size = (IMG_SIZE, IMG_SIZE),\n",
    "    color_mode = 'grayscale',\n",
    "    batch_size = BATCH_SIZE,\n",
    "    class_mode = 'categorical',\n",
    "    subset = 'validation' \n",
    ")"
   ]
  },
  {
   "cell_type": "code",
   "execution_count": null,
   "metadata": {},
   "outputs": [
    {
     "name": "stdout",
     "output_type": "stream",
     "text": [
      "Found 0 images belonging to 1 classes.\n"
     ]
    }
   ],
   "source": [
    "# Generacion imagenes Test \n",
    "test_generator = test_datagen.flow_from_directory(\n",
    "    TEST_DIR, \n",
    "    target_size = (IMG_SIZE, IMG_SIZE),\n",
    "    color_mode = 'grayscale',\n",
    "    batch_size = BATCH_SIZE,\n",
    "    shuffle = False \n",
    ")"
   ]
  },
  {
   "cell_type": "code",
   "execution_count": null,
   "metadata": {},
   "outputs": [],
   "source": []
  },
  {
   "cell_type": "code",
   "execution_count": null,
   "metadata": {},
   "outputs": [],
   "source": []
  },
  {
   "cell_type": "code",
   "execution_count": null,
   "metadata": {},
   "outputs": [],
   "source": []
  },
  {
   "cell_type": "code",
   "execution_count": null,
   "metadata": {},
   "outputs": [],
   "source": []
  },
  {
   "cell_type": "code",
   "execution_count": null,
   "metadata": {},
   "outputs": [
    {
     "ename": "NameError",
     "evalue": "name 'Input' is not defined",
     "output_type": "error",
     "traceback": [
      "\u001b[1;31m---------------------------------------------------------------------------\u001b[0m",
      "\u001b[1;31mNameError\u001b[0m                                 Traceback (most recent call last)",
      "Cell \u001b[1;32mIn[18], line 4\u001b[0m\n\u001b[0;32m      1\u001b[0m \u001b[38;5;66;03m# Definir modelo\u001b[39;00m\n\u001b[0;32m      2\u001b[0m model \u001b[38;5;241m=\u001b[39m Sequential()\n\u001b[1;32m----> 4\u001b[0m model\u001b[38;5;241m.\u001b[39madd(Input(shape\u001b[38;5;241m=\u001b[39m(IMG_SIZE, IMG_SIZE, \u001b[38;5;241m1\u001b[39m))) \u001b[38;5;66;03m# Capa explicita (evitar warning)\u001b[39;00m\n\u001b[0;32m      6\u001b[0m \u001b[38;5;66;03m# 1a capa convolucional/pooling\u001b[39;00m\n\u001b[0;32m      7\u001b[0m model\u001b[38;5;241m.\u001b[39madd(Conv2D(\u001b[38;5;241m32\u001b[39m, (\u001b[38;5;241m3\u001b[39m, \u001b[38;5;241m3\u001b[39m), activation \u001b[38;5;241m=\u001b[39m \u001b[38;5;124m'\u001b[39m\u001b[38;5;124mrelu\u001b[39m\u001b[38;5;124m'\u001b[39m))\n",
      "\u001b[1;31mNameError\u001b[0m: name 'Input' is not defined"
     ]
    }
   ],
   "source": [
    "\n",
    "\n",
    "\n",
    "\n",
    "\n",
    "\n",
    "# Definir modelo\n",
    "model = Sequential()\n",
    "\n",
    "model.add(Input(shape=(IMG_SIZE, IMG_SIZE, 1))) # Capa explicita (evitar warning)\n",
    "\n",
    "# 1a capa convolucional/pooling\n",
    "model.add(Conv2D(32, (3, 3), activation = 'relu'))\n",
    "model.add(MaxPooling2D(2, 2))\n",
    "\n",
    "# 2da capa convolucional/pooling\n",
    "model.add(Conv2D(64, (3, 3), activation = 'relu'))\n",
    "model.add(MaxPooling2D(2, 2))\n",
    "\n",
    "# 3a capa convolucional/pooling\n",
    "model.add(Conv2D(128, (3, 3), activation = 'relu'))\n",
    "model.add(MaxPooling2D(2, 2))\n",
    "\n",
    "# Aplanar\n",
    "model.add(Flatten())\n",
    "\n",
    "# Capas densas\n",
    "model.add(Dense(128, activation = 'relu'))\n",
    "model.add(Dropout(0.5))\n",
    "\n",
    "# Capa salida \n",
    "model.add(Dense(2, activation = 'softmax'))\n",
    "# Compilar modelo \n",
    "model.compile(optimizer = 'adam',\n",
    "              loss = 'categorical_crossentropy',\n",
    "              metrics = ['accuracy'])\n"
   ]
  },
  {
   "cell_type": "code",
   "execution_count": null,
   "metadata": {},
   "outputs": [],
   "source": []
  },
  {
   "cell_type": "code",
   "execution_count": null,
   "metadata": {},
   "outputs": [],
   "source": []
  },
  {
   "cell_type": "markdown",
   "metadata": {},
   "source": [
    "CONSTRUCCION RED NEURONAL\n",
    "- Diseñar RN capas adecuadas\n",
    "- Configurara parametros para entrenamiento "
   ]
  },
  {
   "cell_type": "markdown",
   "metadata": {},
   "source": [
    "ENTRENAMIENTO MODELO\n",
    "- Entrenar modelo \n",
    "- Validar modelo y ajustar hiperparametros "
   ]
  },
  {
   "cell_type": "markdown",
   "metadata": {},
   "source": [
    "EVALUACION Y PREDICCION\n",
    "- Evaluar modelo\n",
    "- Preparar predicciones "
   ]
  }
 ],
 "metadata": {
  "kernelspec": {
   "display_name": "base",
   "language": "python",
   "name": "python3"
  },
  "language_info": {
   "codemirror_mode": {
    "name": "ipython",
    "version": 3
   },
   "file_extension": ".py",
   "mimetype": "text/x-python",
   "name": "python",
   "nbconvert_exporter": "python",
   "pygments_lexer": "ipython3",
   "version": "3.11.5"
  }
 },
 "nbformat": 4,
 "nbformat_minor": 2
}
